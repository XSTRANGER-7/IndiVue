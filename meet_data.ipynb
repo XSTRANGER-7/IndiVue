{
 "cells": [
  {
   "cell_type": "code",
   "execution_count": null,
   "id": "c2607ef4-4af0-44cc-afda-7834af83184d",
   "metadata": {},
   "outputs": [],
   "source": [
    "!pip install pandas-profiling\n",
    "pip install pandas\n",
    "pip install pydantic-settings\n",
    "pip install pydantic-settingspip install --upgrade pandas-profiling\n",
    "pip install --upgrade pandas-profiling\n",
    "pip install pydantic-settingspip install --upgrade pandas-profiling\n",
    "pip install ydata-profiling"
   ]
  },
  {
   "cell_type": "code",
   "execution_count": 10,
   "id": "fd7056b7-ee6f-4b1f-8af4-1f2ee268e6ae",
   "metadata": {},
   "outputs": [],
   "source": [
    "import pandas as pd\n",
    "#from pandas_profilingimport ProfileReport\n",
    "import webbrowser\n",
    "from ydata_profiling import ProfileReport\n",
    "\n",
    "df = pd.read_csv('elections.csv')"
   ]
  },
  {
   "cell_type": "code",
   "execution_count": 11,
   "id": "b98a68aa-598d-482d-9f6d-ee72393fd266",
   "metadata": {},
   "outputs": [
    {
     "data": {
      "application/vnd.jupyter.widget-view+json": {
       "model_id": "572f369e7e1146ecbfc9228026306769",
       "version_major": 2,
       "version_minor": 0
      },
      "text/plain": [
       "Summarize dataset:   0%|          | 0/5 [00:00<?, ?it/s]"
      ]
     },
     "metadata": {},
     "output_type": "display_data"
    },
    {
     "name": "stderr",
     "output_type": "stream",
     "text": [
      "/home/yashyadav/.local/lib/python3.12/site-packages/seaborn/matrix.py:260: FutureWarning: Format strings passed to MaskedConstant are ignored, but in future may error or produce different behavior\n",
      "  annotation = (\"{:\" + self.fmt + \"}\").format(val)\n",
      "/home/yashyadav/.local/lib/python3.12/site-packages/ydata_profiling/model/missing.py:78: UserWarning: There was an attempt to generate the Heatmap missing values diagrams, but this failed.\n",
      "To hide this warning, disable the calculation\n",
      "(using `df.profile_report(missing_diagrams={\"Heatmap\": False}`)\n",
      "If this is problematic for your use case, please report this as an issue:\n",
      "https://github.com/ydataai/ydata-profiling/issues\n",
      "(include the error message: 'could not convert string to float: '--'')\n",
      "  warnings.warn(\n"
     ]
    },
    {
     "data": {
      "application/vnd.jupyter.widget-view+json": {
       "model_id": "4963c0c5f6334c9baf0894cb90791519",
       "version_major": 2,
       "version_minor": 0
      },
      "text/plain": [
       "Generate report structure:   0%|          | 0/1 [00:00<?, ?it/s]"
      ]
     },
     "metadata": {},
     "output_type": "display_data"
    },
    {
     "data": {
      "application/vnd.jupyter.widget-view+json": {
       "model_id": "e1ffdf8498b84793b36bb1fa64204ede",
       "version_major": 2,
       "version_minor": 0
      },
      "text/plain": [
       "Render HTML:   0%|          | 0/1 [00:00<?, ?it/s]"
      ]
     },
     "metadata": {},
     "output_type": "display_data"
    },
    {
     "data": {
      "application/vnd.jupyter.widget-view+json": {
       "model_id": "41d9491c38fa48969de44e1a9f17a796",
       "version_major": 2,
       "version_minor": 0
      },
      "text/plain": [
       "Export report to file:   0%|          | 0/1 [00:00<?, ?it/s]"
      ]
     },
     "metadata": {},
     "output_type": "display_data"
    },
    {
     "data": {
      "text/plain": [
       "True"
      ]
     },
     "execution_count": 11,
     "metadata": {},
     "output_type": "execute_result"
    }
   ],
   "source": [
    "# Generate a pandas-profiling report\n",
    "profile = ProfileReport(df, title='Elections Data Profile Report', explorative=True)\n",
    "\n",
    "# Save the report as an HTML file\n",
    "report_path = 'elections_profile_report.html'\n",
    "profile.to_file(report_path)\n",
    "\n",
    "# Open the HTML report in a separate browser tab\n",
    "webbrowser.open_new_tab(report_path)"
   ]
  }
 ],
 "metadata": {
  "kernelspec": {
   "display_name": "Python 3 (ipykernel)",
   "language": "python",
   "name": "python3"
  },
  "language_info": {
   "codemirror_mode": {
    "name": "ipython",
    "version": 3
   },
   "file_extension": ".py",
   "mimetype": "text/x-python",
   "name": "python",
   "nbconvert_exporter": "python",
   "pygments_lexer": "ipython3",
   "version": "3.12.2"
  }
 },
 "nbformat": 4,
 "nbformat_minor": 5
}
